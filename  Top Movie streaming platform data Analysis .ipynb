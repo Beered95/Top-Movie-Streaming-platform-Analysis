{
 "cells": [
  {
   "cell_type": "markdown",
   "id": "b23538fe",
   "metadata": {},
   "source": [
    "# **Data Analysis on Movies from Top streaming platforms**"
   ]
  },
  {
   "cell_type": "code",
   "execution_count": 2,
   "id": "6dcbcfbe",
   "metadata": {},
   "outputs": [],
   "source": [
    "import pandas as pd\n",
    "import numpy as np\n",
    "import matplotlib.pyplot as plt\n",
    "import seaborn as sns"
   ]
  },
  {
   "cell_type": "code",
   "execution_count": 32,
   "id": "a53e2152",
   "metadata": {},
   "outputs": [],
   "source": [
    "df = pd.read_csv('/Users/mac/Downloads/moviestreams.csv')"
   ]
  },
  {
   "cell_type": "code",
   "execution_count": 33,
   "id": "87037d19",
   "metadata": {
    "scrolled": true
   },
   "outputs": [
    {
     "data": {
      "text/plain": [
       "(16744, 17)"
      ]
     },
     "execution_count": 33,
     "metadata": {},
     "output_type": "execute_result"
    }
   ],
   "source": [
    "#we check the number of availabe rows and columns\n",
    "df.shape"
   ]
  },
  {
   "cell_type": "code",
   "execution_count": 34,
   "id": "31cad280",
   "metadata": {},
   "outputs": [
    {
     "data": {
      "text/plain": [
       "['Unnamed: 0',\n",
       " 'ID',\n",
       " 'Title',\n",
       " 'Year',\n",
       " 'Age',\n",
       " 'IMDb',\n",
       " 'Rotten Tomatoes',\n",
       " 'Netflix',\n",
       " 'Hulu',\n",
       " 'Prime Video',\n",
       " 'Disney+',\n",
       " 'Type',\n",
       " 'Directors',\n",
       " 'Genres',\n",
       " 'Country',\n",
       " 'Language',\n",
       " 'Runtime']"
      ]
     },
     "execution_count": 34,
     "metadata": {},
     "output_type": "execute_result"
    }
   ],
   "source": [
    "# CHECK THE NAMES OF THE COLUMN IN THIS DATA SET\n",
    "\n",
    "df.columns.tolist()\n",
    "\n"
   ]
  },
  {
   "cell_type": "code",
   "execution_count": 35,
   "id": "4626090b",
   "metadata": {},
   "outputs": [],
   "source": [
    "#Drop unwanted columns\n",
    "df.drop(['Unnamed: 0','ID',], axis= 1, inplace = True)"
   ]
  },
  {
   "cell_type": "code",
   "execution_count": 36,
   "id": "8133707b",
   "metadata": {
    "scrolled": false
   },
   "outputs": [
    {
     "data": {
      "text/plain": [
       "['Title',\n",
       " 'Year',\n",
       " 'Age',\n",
       " 'IMDb',\n",
       " 'Rotten Tomatoes',\n",
       " 'Netflix',\n",
       " 'Hulu',\n",
       " 'Prime Video',\n",
       " 'Disney+',\n",
       " 'Type',\n",
       " 'Directors',\n",
       " 'Genres',\n",
       " 'Country',\n",
       " 'Language',\n",
       " 'Runtime']"
      ]
     },
     "execution_count": 36,
     "metadata": {},
     "output_type": "execute_result"
    }
   ],
   "source": [
    "df.columns.tolist()"
   ]
  },
  {
   "cell_type": "code",
   "execution_count": 37,
   "id": "3691c74e",
   "metadata": {},
   "outputs": [
    {
     "data": {
      "text/plain": [
       "Title                  0\n",
       "Year                   0\n",
       "Age                 9390\n",
       "IMDb                 571\n",
       "Rotten Tomatoes    11586\n",
       "Netflix                0\n",
       "Hulu                   0\n",
       "Prime Video            0\n",
       "Disney+                0\n",
       "Type                   0\n",
       "Directors            726\n",
       "Genres               275\n",
       "Country              435\n",
       "Language             599\n",
       "Runtime              592\n",
       "dtype: int64"
      ]
     },
     "execution_count": 37,
     "metadata": {},
     "output_type": "execute_result"
    }
   ],
   "source": [
    "#check for total number of missing values in each column\n",
    "df.isna().sum()"
   ]
  },
  {
   "cell_type": "code",
   "execution_count": 21,
   "id": "2defd196",
   "metadata": {
    "scrolled": true
   },
   "outputs": [
    {
     "data": {
      "text/html": [
       "<div>\n",
       "<style scoped>\n",
       "    .dataframe tbody tr th:only-of-type {\n",
       "        vertical-align: middle;\n",
       "    }\n",
       "\n",
       "    .dataframe tbody tr th {\n",
       "        vertical-align: top;\n",
       "    }\n",
       "\n",
       "    .dataframe thead th {\n",
       "        text-align: right;\n",
       "    }\n",
       "</style>\n",
       "<table border=\"1\" class=\"dataframe\">\n",
       "  <thead>\n",
       "    <tr style=\"text-align: right;\">\n",
       "      <th></th>\n",
       "      <th>Title</th>\n",
       "      <th>Year</th>\n",
       "      <th>Age</th>\n",
       "      <th>IMDb</th>\n",
       "      <th>Rotten Tomatoes</th>\n",
       "      <th>Netflix</th>\n",
       "      <th>Hulu</th>\n",
       "      <th>Prime Video</th>\n",
       "      <th>Disney+</th>\n",
       "      <th>Type</th>\n",
       "      <th>Directors</th>\n",
       "      <th>Genres</th>\n",
       "      <th>Country</th>\n",
       "      <th>Language</th>\n",
       "      <th>Runtime</th>\n",
       "    </tr>\n",
       "  </thead>\n",
       "  <tbody>\n",
       "    <tr>\n",
       "      <th>0</th>\n",
       "      <td>Inception</td>\n",
       "      <td>2010</td>\n",
       "      <td>13+</td>\n",
       "      <td>8.8</td>\n",
       "      <td>87%</td>\n",
       "      <td>1</td>\n",
       "      <td>0</td>\n",
       "      <td>0</td>\n",
       "      <td>0</td>\n",
       "      <td>0</td>\n",
       "      <td>Christopher Nolan</td>\n",
       "      <td>Action,Adventure,Sci-Fi,Thriller</td>\n",
       "      <td>United States,United Kingdom</td>\n",
       "      <td>English,Japanese,French</td>\n",
       "      <td>148.0</td>\n",
       "    </tr>\n",
       "    <tr>\n",
       "      <th>1</th>\n",
       "      <td>The Matrix</td>\n",
       "      <td>1999</td>\n",
       "      <td>18+</td>\n",
       "      <td>8.7</td>\n",
       "      <td>87%</td>\n",
       "      <td>1</td>\n",
       "      <td>0</td>\n",
       "      <td>0</td>\n",
       "      <td>0</td>\n",
       "      <td>0</td>\n",
       "      <td>Lana Wachowski,Lilly Wachowski</td>\n",
       "      <td>Action,Sci-Fi</td>\n",
       "      <td>United States</td>\n",
       "      <td>English</td>\n",
       "      <td>136.0</td>\n",
       "    </tr>\n",
       "    <tr>\n",
       "      <th>2</th>\n",
       "      <td>Avengers: Infinity War</td>\n",
       "      <td>2018</td>\n",
       "      <td>13+</td>\n",
       "      <td>8.5</td>\n",
       "      <td>84%</td>\n",
       "      <td>1</td>\n",
       "      <td>0</td>\n",
       "      <td>0</td>\n",
       "      <td>0</td>\n",
       "      <td>0</td>\n",
       "      <td>Anthony Russo,Joe Russo</td>\n",
       "      <td>Action,Adventure,Sci-Fi</td>\n",
       "      <td>United States</td>\n",
       "      <td>English</td>\n",
       "      <td>149.0</td>\n",
       "    </tr>\n",
       "    <tr>\n",
       "      <th>3</th>\n",
       "      <td>Back to the Future</td>\n",
       "      <td>1985</td>\n",
       "      <td>7+</td>\n",
       "      <td>8.5</td>\n",
       "      <td>96%</td>\n",
       "      <td>1</td>\n",
       "      <td>0</td>\n",
       "      <td>0</td>\n",
       "      <td>0</td>\n",
       "      <td>0</td>\n",
       "      <td>Robert Zemeckis</td>\n",
       "      <td>Adventure,Comedy,Sci-Fi</td>\n",
       "      <td>United States</td>\n",
       "      <td>English</td>\n",
       "      <td>116.0</td>\n",
       "    </tr>\n",
       "    <tr>\n",
       "      <th>4</th>\n",
       "      <td>The Good, the Bad and the Ugly</td>\n",
       "      <td>1966</td>\n",
       "      <td>18+</td>\n",
       "      <td>8.8</td>\n",
       "      <td>97%</td>\n",
       "      <td>1</td>\n",
       "      <td>0</td>\n",
       "      <td>1</td>\n",
       "      <td>0</td>\n",
       "      <td>0</td>\n",
       "      <td>Sergio Leone</td>\n",
       "      <td>Western</td>\n",
       "      <td>Italy,Spain,West Germany</td>\n",
       "      <td>Italian</td>\n",
       "      <td>161.0</td>\n",
       "    </tr>\n",
       "  </tbody>\n",
       "</table>\n",
       "</div>"
      ],
      "text/plain": [
       "                            Title  Year  Age  IMDb Rotten Tomatoes  Netflix  \\\n",
       "0                       Inception  2010  13+   8.8             87%        1   \n",
       "1                      The Matrix  1999  18+   8.7             87%        1   \n",
       "2          Avengers: Infinity War  2018  13+   8.5             84%        1   \n",
       "3              Back to the Future  1985   7+   8.5             96%        1   \n",
       "4  The Good, the Bad and the Ugly  1966  18+   8.8             97%        1   \n",
       "\n",
       "   Hulu  Prime Video  Disney+  Type                       Directors  \\\n",
       "0     0            0        0     0               Christopher Nolan   \n",
       "1     0            0        0     0  Lana Wachowski,Lilly Wachowski   \n",
       "2     0            0        0     0         Anthony Russo,Joe Russo   \n",
       "3     0            0        0     0                 Robert Zemeckis   \n",
       "4     0            1        0     0                    Sergio Leone   \n",
       "\n",
       "                             Genres                       Country  \\\n",
       "0  Action,Adventure,Sci-Fi,Thriller  United States,United Kingdom   \n",
       "1                     Action,Sci-Fi                 United States   \n",
       "2           Action,Adventure,Sci-Fi                 United States   \n",
       "3           Adventure,Comedy,Sci-Fi                 United States   \n",
       "4                           Western      Italy,Spain,West Germany   \n",
       "\n",
       "                  Language  Runtime  \n",
       "0  English,Japanese,French    148.0  \n",
       "1                  English    136.0  \n",
       "2                  English    149.0  \n",
       "3                  English    116.0  \n",
       "4                  Italian    161.0  "
      ]
     },
     "execution_count": 21,
     "metadata": {},
     "output_type": "execute_result"
    }
   ],
   "source": [
    "df.head(5)"
   ]
  },
  {
   "cell_type": "markdown",
   "id": "bf63bf11",
   "metadata": {},
   "source": [
    "# Questions\n",
    "\n",
    "### 1). What was the top genre(s) of Movies streamed by each platforms?\n",
    "### 2). Which particular age group had the most movies in their platform?\n",
    "### 3). What are the Top Movie(s) in each Platform"
   ]
  },
  {
   "cell_type": "code",
   "execution_count": 40,
   "id": "15e97d7f",
   "metadata": {},
   "outputs": [
    {
     "data": {
      "text/plain": [
       "0        13+\n",
       "1        18+\n",
       "2        13+\n",
       "3         7+\n",
       "4        18+\n",
       "        ... \n",
       "16739    NaN\n",
       "16740     7+\n",
       "16741    NaN\n",
       "16742    NaN\n",
       "16743    NaN\n",
       "Name: Age, Length: 16744, dtype: object"
      ]
     },
     "execution_count": 40,
     "metadata": {},
     "output_type": "execute_result"
    }
   ],
   "source": [
    "df['Age']"
   ]
  },
  {
   "cell_type": "code",
   "execution_count": 44,
   "id": "dea87c38",
   "metadata": {},
   "outputs": [],
   "source": [
    "age_copy = {'18+' : 18, '7+' : 7, '13+': 13, 'all' : 0, '16+' : 16}\n",
    "df['New_age'] = df['Age'].map(age_copy)"
   ]
  },
  {
   "cell_type": "code",
   "execution_count": 46,
   "id": "272405c8",
   "metadata": {},
   "outputs": [
    {
     "data": {
      "text/html": [
       "<div>\n",
       "<style scoped>\n",
       "    .dataframe tbody tr th:only-of-type {\n",
       "        vertical-align: middle;\n",
       "    }\n",
       "\n",
       "    .dataframe tbody tr th {\n",
       "        vertical-align: top;\n",
       "    }\n",
       "\n",
       "    .dataframe thead th {\n",
       "        text-align: right;\n",
       "    }\n",
       "</style>\n",
       "<table border=\"1\" class=\"dataframe\">\n",
       "  <thead>\n",
       "    <tr style=\"text-align: right;\">\n",
       "      <th></th>\n",
       "      <th>New_age</th>\n",
       "    </tr>\n",
       "  </thead>\n",
       "  <tbody>\n",
       "    <tr>\n",
       "      <th>0</th>\n",
       "      <td>13.0</td>\n",
       "    </tr>\n",
       "    <tr>\n",
       "      <th>1</th>\n",
       "      <td>18.0</td>\n",
       "    </tr>\n",
       "    <tr>\n",
       "      <th>2</th>\n",
       "      <td>13.0</td>\n",
       "    </tr>\n",
       "    <tr>\n",
       "      <th>3</th>\n",
       "      <td>7.0</td>\n",
       "    </tr>\n",
       "    <tr>\n",
       "      <th>4</th>\n",
       "      <td>18.0</td>\n",
       "    </tr>\n",
       "    <tr>\n",
       "      <th>...</th>\n",
       "      <td>...</td>\n",
       "    </tr>\n",
       "    <tr>\n",
       "      <th>16739</th>\n",
       "      <td>NaN</td>\n",
       "    </tr>\n",
       "    <tr>\n",
       "      <th>16740</th>\n",
       "      <td>7.0</td>\n",
       "    </tr>\n",
       "    <tr>\n",
       "      <th>16741</th>\n",
       "      <td>NaN</td>\n",
       "    </tr>\n",
       "    <tr>\n",
       "      <th>16742</th>\n",
       "      <td>NaN</td>\n",
       "    </tr>\n",
       "    <tr>\n",
       "      <th>16743</th>\n",
       "      <td>NaN</td>\n",
       "    </tr>\n",
       "  </tbody>\n",
       "</table>\n",
       "<p>16744 rows × 1 columns</p>\n",
       "</div>"
      ],
      "text/plain": [
       "       New_age\n",
       "0         13.0\n",
       "1         18.0\n",
       "2         13.0\n",
       "3          7.0\n",
       "4         18.0\n",
       "...        ...\n",
       "16739      NaN\n",
       "16740      7.0\n",
       "16741      NaN\n",
       "16742      NaN\n",
       "16743      NaN\n",
       "\n",
       "[16744 rows x 1 columns]"
      ]
     },
     "execution_count": 46,
     "metadata": {},
     "output_type": "execute_result"
    }
   ],
   "source": [
    "df[['New_age']]"
   ]
  },
  {
   "cell_type": "markdown",
   "id": "c106b3ce",
   "metadata": {},
   "source": [
    "### Removing the percentage sign besides the score of the Rotten Tomatoes"
   ]
  },
  {
   "cell_type": "code",
   "execution_count": 48,
   "id": "affb92a5",
   "metadata": {},
   "outputs": [
    {
     "data": {
      "text/plain": [
       "Rotten Tomatoes    object\n",
       "dtype: object"
      ]
     },
     "execution_count": 48,
     "metadata": {},
     "output_type": "execute_result"
    }
   ],
   "source": [
    "df[['Rotten Tomatoes']].dtypes"
   ]
  },
  {
   "cell_type": "code",
   "execution_count": 52,
   "id": "5ee3b4a5",
   "metadata": {},
   "outputs": [
    {
     "data": {
      "text/plain": [
       "0         87\n",
       "1         87\n",
       "2         84\n",
       "3         96\n",
       "4         97\n",
       "        ... \n",
       "16739    NaN\n",
       "16740    NaN\n",
       "16741    NaN\n",
       "16742    NaN\n",
       "16743    NaN\n",
       "Name: Rotten Tomatoes, Length: 16744, dtype: object"
      ]
     },
     "execution_count": 52,
     "metadata": {},
     "output_type": "execute_result"
    }
   ],
   "source": [
    "\n",
    "df['Rotten Tomatoes'] = df['Rotten Tomatoes'].str.replace('%', '')\n",
    "for i in df['Rotten Tomatoes']:\n",
    "    if i == str:\n",
    "        i.astype(int)\n",
    "df['Rotten Tomatoes']"
   ]
  },
  {
   "cell_type": "code",
   "execution_count": 66,
   "id": "1aca9984",
   "metadata": {},
   "outputs": [],
   "source": [
    " age_count= df['Age']. value_counts()"
   ]
  },
  {
   "cell_type": "code",
   "execution_count": 65,
   "id": "8fb9e3be",
   "metadata": {},
   "outputs": [],
   "source": [
    " age_index  = df['Age'].value_counts().index"
   ]
  },
  {
   "cell_type": "code",
   "execution_count": 82,
   "id": "ed7c1575",
   "metadata": {
    "scrolled": false
   },
   "outputs": [
    {
     "data": {
      "text/plain": [
       "Text(0.5, 1.0, 'Number of Movies in specific Age group in all streams')"
      ]
     },
     "execution_count": 82,
     "metadata": {},
     "output_type": "execute_result"
    },
    {
     "data": {
      "image/png": "[encoded data removed]",
      "text/plain": [
       "<Figure size 864x576 with 1 Axes>"
      ]
     },
     "metadata": {
      "needs_background": "light"
     },
     "output_type": "display_data"
    }
   ],
   "source": [
    "Age = df.Age.value_counts()\n",
    "plt.figure(figsize=(12,8))\n",
    "ax = sns.barplot(x = age_index, y = age_count, color = 'orchid')\n",
    "\n",
    "ax.set_xlabel(\"Ages\")\n",
    "ax.set_ylabel(\"Age Count\")\n",
    "\n",
    "ax.set_title('Number of Movies in specific Age group in all streams') \n",
    " "
   ]
  },
  {
   "cell_type": "code",
   "execution_count": 92,
   "id": "bfc97bc6",
   "metadata": {},
   "outputs": [
    {
     "data": {
      "text/plain": [
       "Index(['18+', '7+', '13+', 'all', '16+'], dtype='object')"
      ]
     },
     "execution_count": 92,
     "metadata": {},
     "output_type": "execute_result"
    }
   ],
   "source": [
    "age_index"
   ]
  },
  {
   "cell_type": "code",
   "execution_count": 85,
   "id": "56d47c94",
   "metadata": {},
   "outputs": [],
   "source": [
    "netflix_df = df[df['Netflix']==1]\n",
    "netflix_age_count =netflix_df['Age'].value_counts()"
   ]
  },
  {
   "cell_type": "code",
   "execution_count": 97,
   "id": "72688970",
   "metadata": {},
   "outputs": [
    {
     "data": {
      "text/plain": [
       "Text(0.5, 1.0, 'Number of Movies in specific age group in Netflix')"
      ]
     },
     "execution_count": 97,
     "metadata": {},
     "output_type": "execute_result"
    },
    {
     "data": {
      "image/png": "[encoded data removed]",
      "text/plain": [
       "<Figure size 864x576 with 1 Axes>"
      ]
     },
     "metadata": {
      "needs_background": "light"
     },
     "output_type": "display_data"
    }
   ],
   "source": [
    "plt.figure(figsize=(12,8))\n",
    "ax = sns.barplot(data = netflix_df, x = age_index, y = netflix_age_count, color = 'crimson')\n",
    "ax.set_xlabel(\"Ages\")\n",
    "ax.set_ylabel(\"Age Count\")\n",
    "\n",
    "ax.set_title('Number of Movies in specific age group in Netflix') \n",
    " "
   ]
  },
  {
   "cell_type": "code",
   "execution_count": 98,
   "id": "c316ee71",
   "metadata": {},
   "outputs": [],
   "source": [
    "Amazon_df = df[df['Prime Video']==1]\n",
    "Amazon_age_count =Amazon_df['Age'].value_counts()"
   ]
  },
  {
   "cell_type": "code",
   "execution_count": 103,
   "id": "30c3bd29",
   "metadata": {},
   "outputs": [
    {
     "data": {
      "text/plain": [
       "Text(0.5, 1.0, 'Number of Movies in specific age group in Prime Video')"
      ]
     },
     "execution_count": 103,
     "metadata": {},
     "output_type": "execute_result"
    },
    {
     "data": {
      "image/png": "[encoded data removed]",
      "text/plain": [
       "<Figure size 864x576 with 1 Axes>"
      ]
     },
     "metadata": {
      "needs_background": "light"
     },
     "output_type": "display_data"
    }
   ],
   "source": [
    "plt.figure(figsize=(12,8))\n",
    "ax = sns.barplot(data = Amazon_df, x = age_index, y = Amazon_age_count, color = 'lightsalmon')\n",
    "ax.set_xlabel(\"Ages\")\n",
    "ax.set_ylabel(\"Age Count\")\n",
    "\n",
    "ax.set_title('Number of Movies in specific age group in Prime Video') \n",
    " "
   ]
  },
  {
   "cell_type": "code",
   "execution_count": 100,
   "id": "60029fe0",
   "metadata": {},
   "outputs": [],
   "source": [
    "Disney_df = df[df['Disney+']==1]\n",
    "Disney_age_count =Disney_df['Age'].value_counts()"
   ]
  },
  {
   "cell_type": "code",
   "execution_count": 115,
   "id": "2d23a1b9",
   "metadata": {
    "scrolled": false
   },
   "outputs": [
    {
     "data": {
      "text/plain": [
       "Text(0.5, 1.0, 'Number of Movies in specific age group in Disney+')"
      ]
     },
     "execution_count": 115,
     "metadata": {},
     "output_type": "execute_result"
    },
    {
     "data": {
      "image/png": "[encoded data removed]",
      "text/plain": [
       "<Figure size 864x576 with 1 Axes>"
      ]
     },
     "metadata": {
      "needs_background": "light"
     },
     "output_type": "display_data"
    }
   ],
   "source": [
    "plt.figure(figsize=(12,8))\n",
    "ax = sns.barplot(data = Disney_df, x = age_index, y = Disney_age_count, color = 'black')\n",
    "ax.set_xlabel(\"Ages\")\n",
    "ax.set_ylabel(\"Age Count\")\n",
    "\n",
    "ax.set_title('Number of Movies in specific age group in Disney+') \n",
    " "
   ]
  },
  {
   "cell_type": "code",
   "execution_count": 122,
   "id": "44ad12fd",
   "metadata": {},
   "outputs": [],
   "source": [
    " Hulu_df = df[df['Hulu']==1]\n",
    "Hulu_count =Disney_df['Age'].value_counts()"
   ]
  },
  {
   "cell_type": "code",
   "execution_count": 131,
   "id": "8730ceaa",
   "metadata": {},
   "outputs": [],
   "source": [
    "Hulu = Hulu_df['Age'].value_counts()"
   ]
  },
  {
   "cell_type": "code",
   "execution_count": 134,
   "id": "6d00c268",
   "metadata": {},
   "outputs": [],
   "source": [
    " age_hulu = Hulu.index"
   ]
  },
  {
   "cell_type": "code",
   "execution_count": 137,
   "id": "8f440878",
   "metadata": {},
   "outputs": [
    {
     "data": {
      "text/plain": [
       "Text(0.5, 1.0, 'Number of Movies in specific age group in Hulu  Video')"
      ]
     },
     "execution_count": 137,
     "metadata": {},
     "output_type": "execute_result"
    },
    {
     "data": {
      "image/png": "[encoded data removed]",
      "text/plain": [
       "<Figure size 864x576 with 1 Axes>"
      ]
     },
     "metadata": {
      "needs_background": "light"
     },
     "output_type": "display_data"
    }
   ],
   "source": [
    "plt.figure(figsize=(12,8))\n",
    "ax = sns.barplot(data = Hulu_df, x = age_hulu, y = Hulu, color = 'green')\n",
    "ax.set_xlabel(\"Ages\")\n",
    "ax.set_ylabel(\"Age Count\")\n",
    "\n",
    "\n",
    "ax.set_title('Number of Movies in specific age group in Hulu  Video') \n",
    " "
   ]
  },
  {
   "cell_type": "code",
   "execution_count": 138,
   "id": "453d5a27",
   "metadata": {},
   "outputs": [],
   "source": [
    "genres_= dict(df['Genres'].value_counts())\n",
    "count_genres = dict()\n",
    "for g,count in genres_.items():\n",
    "    g = g.split(\",\")\n",
    "    for i in g:\n",
    "        if i in count_genres.keys():\n",
    "            count_genres[i] = count_genres.get(i)+1\n",
    "        else:\n",
    "            count_genres[i] = 1"
   ]
  },
  {
   "cell_type": "code",
   "execution_count": 157,
   "id": "bf71a9ef",
   "metadata": {
    "scrolled": false
   },
   "outputs": [],
   "source": [
    "count_genres_df = pd.DataFrame(count_genres.items(), columns=['Genre', 'Count'])\n",
    "a = count_genres_df.head(10)"
   ]
  },
  {
   "cell_type": "markdown",
   "id": "b3b376a5",
   "metadata": {},
   "source": [
    "For the sake of managing space and making my visuals clearer i decided to carry out the top 10 genres in this data set."
   ]
  },
  {
   "cell_type": "code",
   "execution_count": 159,
   "id": "8623a575",
   "metadata": {},
   "outputs": [
    {
     "data": {
      "text/plain": [
       "0          Drama\n",
       "1    Documentary\n",
       "2         Comedy\n",
       "3         Horror\n",
       "4        Romance\n",
       "5       Thriller\n",
       "6         Action\n",
       "7          Crime\n",
       "8          Music\n",
       "9        Mystery\n",
       "Name: Genre, dtype: object"
      ]
     },
     "execution_count": 159,
     "metadata": {},
     "output_type": "execute_result"
    }
   ],
   "source": [
    "count_genres_df['Genre'].head(10)"
   ]
  },
  {
   "cell_type": "code",
   "execution_count": 176,
   "id": "baab1d2f",
   "metadata": {
    "scrolled": true
   },
   "outputs": [
    {
     "data": {
      "text/plain": [
       "Text(0.5, 1.0, 'Genres and their Counts')"
      ]
     },
     "execution_count": 176,
     "metadata": {},
     "output_type": "execute_result"
    },
    {
     "data": {
      "image/png": "[encoded data removed]",
      "text/plain": [
       "<Figure size 1080x576 with 1 Axes>"
      ]
     },
     "metadata": {
      "needs_background": "light"
     },
     "output_type": "display_data"
    }
   ],
   "source": [
    "plt.figure(figsize=(15,8))\n",
    "ax = sns.barplot(data = a, x = count_genres_df['Genre'].head(10), y = count_genres_df['Count'].head(10), color = 'dodgerblue')\n",
    "ax.set_xlabel(\"Genre\", fontsize = 20)\n",
    "ax.set_ylabel(\"Count\", fontsize = 20)\n",
    "\n",
    "\n",
    "ax.set_title('Genres and their Counts') \n",
    " \n"
   ]
  },
  {
   "cell_type": "markdown",
   "id": "ca597421",
   "metadata": {},
   "source": [
    "#### This clearly shows that \"DRAMA\" is the highest genre watched "
   ]
  },
  {
   "cell_type": "markdown",
   "id": "627a76dc",
   "metadata": {},
   "source": [
    "### NETFLIX TOP MOVIES"
   ]
  },
  {
   "cell_type": "code",
   "execution_count": 169,
   "id": "58974d81",
   "metadata": {},
   "outputs": [
    {
     "data": {
      "text/html": [
       "<div>\n",
       "<style scoped>\n",
       "    .dataframe tbody tr th:only-of-type {\n",
       "        vertical-align: middle;\n",
       "    }\n",
       "\n",
       "    .dataframe tbody tr th {\n",
       "        vertical-align: top;\n",
       "    }\n",
       "\n",
       "    .dataframe thead th {\n",
       "        text-align: right;\n",
       "    }\n",
       "</style>\n",
       "<table border=\"1\" class=\"dataframe\">\n",
       "  <thead>\n",
       "    <tr style=\"text-align: right;\">\n",
       "      <th></th>\n",
       "      <th>Title</th>\n",
       "      <th>IMDb</th>\n",
       "    </tr>\n",
       "  </thead>\n",
       "  <tbody>\n",
       "    <tr>\n",
       "      <th>1292</th>\n",
       "      <td>My Next Guest with David Letterman and Shah Ru...</td>\n",
       "      <td>9.3</td>\n",
       "    </tr>\n",
       "    <tr>\n",
       "      <th>947</th>\n",
       "      <td>Natsamrat</td>\n",
       "      <td>9.1</td>\n",
       "    </tr>\n",
       "    <tr>\n",
       "      <th>0</th>\n",
       "      <td>Inception</td>\n",
       "      <td>8.8</td>\n",
       "    </tr>\n",
       "    <tr>\n",
       "      <th>4</th>\n",
       "      <td>The Good, the Bad and the Ugly</td>\n",
       "      <td>8.8</td>\n",
       "    </tr>\n",
       "    <tr>\n",
       "      <th>1</th>\n",
       "      <td>The Matrix</td>\n",
       "      <td>8.7</td>\n",
       "    </tr>\n",
       "    <tr>\n",
       "      <th>1214</th>\n",
       "      <td>Bill Hicks: Relentless</td>\n",
       "      <td>8.7</td>\n",
       "    </tr>\n",
       "    <tr>\n",
       "      <th>1311</th>\n",
       "      <td>Eh Janam Tumhare Lekhe</td>\n",
       "      <td>8.7</td>\n",
       "    </tr>\n",
       "    <tr>\n",
       "      <th>1458</th>\n",
       "      <td>Untamed Romania</td>\n",
       "      <td>8.7</td>\n",
       "    </tr>\n",
       "    <tr>\n",
       "      <th>1979</th>\n",
       "      <td>One Heart: The A.R. Rahman Concert Film</td>\n",
       "      <td>8.7</td>\n",
       "    </tr>\n",
       "    <tr>\n",
       "      <th>845</th>\n",
       "      <td>Gol Maal</td>\n",
       "      <td>8.6</td>\n",
       "    </tr>\n",
       "    <tr>\n",
       "      <th>1312</th>\n",
       "      <td>Bill Hicks: Revelations</td>\n",
       "      <td>8.6</td>\n",
       "    </tr>\n",
       "    <tr>\n",
       "      <th>1356</th>\n",
       "      <td>Merku Thodarchi Malai</td>\n",
       "      <td>8.6</td>\n",
       "    </tr>\n",
       "    <tr>\n",
       "      <th>1468</th>\n",
       "      <td>K. D.</td>\n",
       "      <td>8.6</td>\n",
       "    </tr>\n",
       "    <tr>\n",
       "      <th>1538</th>\n",
       "      <td>Luciano Mellera: Infantiloide</td>\n",
       "      <td>8.6</td>\n",
       "    </tr>\n",
       "    <tr>\n",
       "      <th>2195</th>\n",
       "      <td>Hikaru Utada Laughter in the Dark Tour 2018</td>\n",
       "      <td>8.6</td>\n",
       "    </tr>\n",
       "    <tr>\n",
       "      <th>2704</th>\n",
       "      <td>True: Happy Hearts Day</td>\n",
       "      <td>8.6</td>\n",
       "    </tr>\n",
       "  </tbody>\n",
       "</table>\n",
       "</div>"
      ],
      "text/plain": [
       "                                                  Title  IMDb\n",
       "1292  My Next Guest with David Letterman and Shah Ru...   9.3\n",
       "947                                           Natsamrat   9.1\n",
       "0                                             Inception   8.8\n",
       "4                        The Good, the Bad and the Ugly   8.8\n",
       "1                                            The Matrix   8.7\n",
       "1214                             Bill Hicks: Relentless   8.7\n",
       "1311                             Eh Janam Tumhare Lekhe   8.7\n",
       "1458                                    Untamed Romania   8.7\n",
       "1979            One Heart: The A.R. Rahman Concert Film   8.7\n",
       "845                                            Gol Maal   8.6\n",
       "1312                            Bill Hicks: Revelations   8.6\n",
       "1356                              Merku Thodarchi Malai   8.6\n",
       "1468                                              K. D.   8.6\n",
       "1538                      Luciano Mellera: Infantiloide   8.6\n",
       "2195        Hikaru Utada Laughter in the Dark Tour 2018   8.6\n",
       "2704                             True: Happy Hearts Day   8.6"
      ]
     },
     "execution_count": 169,
     "metadata": {},
     "output_type": "execute_result"
    }
   ],
   "source": [
    "data_netflix_top = netflix_df[netflix_df['IMDb']>8.5]\n",
    "data_netflix_top = data_netflix_top[['Title', 'IMDb']].sort_values(ascending=False, by='IMDb')\n",
    "data_netflix_top"
   ]
  },
  {
   "cell_type": "markdown",
   "id": "368f6e35",
   "metadata": {},
   "source": [
    "### AMAZON PRIME TOP MOVIES"
   ]
  },
  {
   "cell_type": "code",
   "execution_count": 173,
   "id": "20635cbb",
   "metadata": {},
   "outputs": [
    {
     "data": {
      "text/html": [
       "<div>\n",
       "<style scoped>\n",
       "    .dataframe tbody tr th:only-of-type {\n",
       "        vertical-align: middle;\n",
       "    }\n",
       "\n",
       "    .dataframe tbody tr th {\n",
       "        vertical-align: top;\n",
       "    }\n",
       "\n",
       "    .dataframe thead th {\n",
       "        text-align: right;\n",
       "    }\n",
       "</style>\n",
       "<table border=\"1\" class=\"dataframe\">\n",
       "  <thead>\n",
       "    <tr style=\"text-align: right;\">\n",
       "      <th></th>\n",
       "      <th>Title</th>\n",
       "      <th>IMDb</th>\n",
       "    </tr>\n",
       "  </thead>\n",
       "  <tbody>\n",
       "    <tr>\n",
       "      <th>5110</th>\n",
       "      <td>Love on a Leash</td>\n",
       "      <td>9.3</td>\n",
       "    </tr>\n",
       "    <tr>\n",
       "      <th>7426</th>\n",
       "      <td>Bounty</td>\n",
       "      <td>9.3</td>\n",
       "    </tr>\n",
       "    <tr>\n",
       "      <th>6837</th>\n",
       "      <td>Steven Banks: Home Entertainment Center</td>\n",
       "      <td>9.3</td>\n",
       "    </tr>\n",
       "    <tr>\n",
       "      <th>6566</th>\n",
       "      <td>Square One</td>\n",
       "      <td>9.3</td>\n",
       "    </tr>\n",
       "    <tr>\n",
       "      <th>7220</th>\n",
       "      <td>Down, But Not Out!</td>\n",
       "      <td>9.3</td>\n",
       "    </tr>\n",
       "    <tr>\n",
       "      <th>...</th>\n",
       "      <td>...</td>\n",
       "      <td>...</td>\n",
       "    </tr>\n",
       "    <tr>\n",
       "      <th>5730</th>\n",
       "      <td>George Carlin: You Are All Diseased</td>\n",
       "      <td>8.6</td>\n",
       "    </tr>\n",
       "    <tr>\n",
       "      <th>5607</th>\n",
       "      <td>Aruvi</td>\n",
       "      <td>8.6</td>\n",
       "    </tr>\n",
       "    <tr>\n",
       "      <th>9004</th>\n",
       "      <td>The Legend of Pancho Barnes and the Happy Bott...</td>\n",
       "      <td>8.6</td>\n",
       "    </tr>\n",
       "    <tr>\n",
       "      <th>9098</th>\n",
       "      <td>Yellow Colt</td>\n",
       "      <td>8.6</td>\n",
       "    </tr>\n",
       "    <tr>\n",
       "      <th>7619</th>\n",
       "      <td>The New Public</td>\n",
       "      <td>8.6</td>\n",
       "    </tr>\n",
       "  </tbody>\n",
       "</table>\n",
       "<p>80 rows × 2 columns</p>\n",
       "</div>"
      ],
      "text/plain": [
       "                                                  Title  IMDb\n",
       "5110                                    Love on a Leash   9.3\n",
       "7426                                             Bounty   9.3\n",
       "6837            Steven Banks: Home Entertainment Center   9.3\n",
       "6566                                         Square One   9.3\n",
       "7220                                 Down, But Not Out!   9.3\n",
       "...                                                 ...   ...\n",
       "5730                George Carlin: You Are All Diseased   8.6\n",
       "5607                                              Aruvi   8.6\n",
       "9004  The Legend of Pancho Barnes and the Happy Bott...   8.6\n",
       "9098                                        Yellow Colt   8.6\n",
       "7619                                     The New Public   8.6\n",
       "\n",
       "[80 rows x 2 columns]"
      ]
     },
     "execution_count": 173,
     "metadata": {},
     "output_type": "execute_result"
    }
   ],
   "source": [
    "amz_top = Amazon_df[Amazon_df['IMDb']>8.5]\n",
    "amz_top = amz_top[['Title', 'IMDb']].sort_values(ascending=False, by='IMDb')\n",
    "amz_top"
   ]
  },
  {
   "cell_type": "markdown",
   "id": "0a4001a6",
   "metadata": {},
   "source": [
    "### DISNEY+ TOP MOVIES"
   ]
  },
  {
   "cell_type": "code",
   "execution_count": 174,
   "id": "a7c9b6e5",
   "metadata": {},
   "outputs": [
    {
     "data": {
      "text/html": [
       "<div>\n",
       "<style scoped>\n",
       "    .dataframe tbody tr th:only-of-type {\n",
       "        vertical-align: middle;\n",
       "    }\n",
       "\n",
       "    .dataframe tbody tr th {\n",
       "        vertical-align: top;\n",
       "    }\n",
       "\n",
       "    .dataframe thead th {\n",
       "        text-align: right;\n",
       "    }\n",
       "</style>\n",
       "<table border=\"1\" class=\"dataframe\">\n",
       "  <thead>\n",
       "    <tr style=\"text-align: right;\">\n",
       "      <th></th>\n",
       "      <th>Title</th>\n",
       "      <th>IMDb</th>\n",
       "    </tr>\n",
       "  </thead>\n",
       "  <tbody>\n",
       "    <tr>\n",
       "      <th>16213</th>\n",
       "      <td>Star Wars: The Empire Strikes Back</td>\n",
       "      <td>8.7</td>\n",
       "    </tr>\n",
       "    <tr>\n",
       "      <th>16212</th>\n",
       "      <td>Star Wars: A New Hope</td>\n",
       "      <td>8.6</td>\n",
       "    </tr>\n",
       "  </tbody>\n",
       "</table>\n",
       "</div>"
      ],
      "text/plain": [
       "                                    Title  IMDb\n",
       "16213  Star Wars: The Empire Strikes Back   8.7\n",
       "16212               Star Wars: A New Hope   8.6"
      ]
     },
     "execution_count": 174,
     "metadata": {},
     "output_type": "execute_result"
    }
   ],
   "source": [
    "disney_top = Disney_df[Disney_df['IMDb']>8.5]\n",
    "disney_top = disney_top[['Title', 'IMDb']].sort_values(ascending=False, by='IMDb')\n",
    "disney_top"
   ]
  },
  {
   "cell_type": "markdown",
   "id": "522a878e",
   "metadata": {},
   "source": [
    "### HULU TOP MOVIES"
   ]
  },
  {
   "cell_type": "code",
   "execution_count": 175,
   "id": "2a7162c1",
   "metadata": {},
   "outputs": [
    {
     "data": {
      "text/html": [
       "<div>\n",
       "<style scoped>\n",
       "    .dataframe tbody tr th:only-of-type {\n",
       "        vertical-align: middle;\n",
       "    }\n",
       "\n",
       "    .dataframe tbody tr th {\n",
       "        vertical-align: top;\n",
       "    }\n",
       "\n",
       "    .dataframe thead th {\n",
       "        text-align: right;\n",
       "    }\n",
       "</style>\n",
       "<table border=\"1\" class=\"dataframe\">\n",
       "  <thead>\n",
       "    <tr style=\"text-align: right;\">\n",
       "      <th></th>\n",
       "      <th>Title</th>\n",
       "      <th>IMDb</th>\n",
       "    </tr>\n",
       "  </thead>\n",
       "  <tbody>\n",
       "    <tr>\n",
       "      <th>3560</th>\n",
       "      <td>The Dark Knight</td>\n",
       "      <td>9.0</td>\n",
       "    </tr>\n",
       "    <tr>\n",
       "      <th>3561</th>\n",
       "      <td>GoodFellas</td>\n",
       "      <td>8.7</td>\n",
       "    </tr>\n",
       "    <tr>\n",
       "      <th>3562</th>\n",
       "      <td>Parasite</td>\n",
       "      <td>8.6</td>\n",
       "    </tr>\n",
       "    <tr>\n",
       "      <th>3564</th>\n",
       "      <td>The Green Mile</td>\n",
       "      <td>8.6</td>\n",
       "    </tr>\n",
       "  </tbody>\n",
       "</table>\n",
       "</div>"
      ],
      "text/plain": [
       "                Title  IMDb\n",
       "3560  The Dark Knight   9.0\n",
       "3561       GoodFellas   8.7\n",
       "3562         Parasite   8.6\n",
       "3564   The Green Mile   8.6"
      ]
     },
     "execution_count": 175,
     "metadata": {},
     "output_type": "execute_result"
    }
   ],
   "source": [
    "hulu_top = Hulu_df[Hulu_df['IMDb']>8.5]\n",
    "hulu_top = hulu_top[['Title', 'IMDb']].sort_values(ascending=False, by='IMDb')\n",
    "hulu_top"
   ]
  },
  {
   "cell_type": "markdown",
   "id": "240eed52",
   "metadata": {},
   "source": [
    "From this above analysis we have been able to identify the top movies of each platform, the genre with the highest streams, the age-group of movies offered from different platforms. \n"
   ]
  },
  {
   "cell_type": "code",
   "execution_count": null,
   "id": "38ff60cd",
   "metadata": {},
   "outputs": [],
   "source": []
  }
 ],
 "metadata": {
  "kernelspec": {
   "display_name": "Python 3 (ipykernel)",
   "language": "python",
   "name": "python3"
  },
  "language_info": {
   "codemirror_mode": {
    "name": "ipython",
    "version": 3
   },
   "file_extension": ".py",
   "mimetype": "text/x-python",
   "name": "python",
   "nbconvert_exporter": "python",
   "pygments_lexer": "ipython3",
   "version": "3.9.7"
  }
 },
 "nbformat": 4,
 "nbformat_minor": 5
}
